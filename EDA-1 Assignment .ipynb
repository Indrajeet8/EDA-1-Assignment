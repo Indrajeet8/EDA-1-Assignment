{
 "cells": [
  {
   "cell_type": "markdown",
   "id": "ce6a6110-8f03-4a2c-9211-e2f1f40d397f",
   "metadata": {},
   "source": [
    "# Exploratory Data Analysis-1\n",
    "\n"
   ]
  },
  {
   "cell_type": "markdown",
   "id": "2080a4b0-2681-4725-9e0e-d4a0d0df9acd",
   "metadata": {},
   "source": [
    "## Assignment Questions"
   ]
  },
  {
   "cell_type": "markdown",
   "id": "cb192095-f624-465f-a383-d274737bdfc6",
   "metadata": {},
   "source": [
    "## Q1.\n",
    "What are the key features of the wine quality data set? Discuss the importance of each feature in\n",
    "predicting the quality of wine."
   ]
  },
  {
   "cell_type": "markdown",
   "id": "61b40adf-9248-49f2-9004-b6ef83f45c99",
   "metadata": {},
   "source": [
    "### Ans.\n",
    "The wine qauality data set is quite board as there are several dataset availble for predicting based on various attributes \n",
    "\n",
    "# Key features of the wine data set \n",
    "\n",
    "1. Fine Acidity\n",
    "2. Volatile Acidity \n",
    "3. citric Acid \n",
    "4. Residual Sugar \n",
    "5. Chlorides \n",
    "6. Free Sulfur Dioxide \n",
    "7. Total Sulfer Dioxide \n",
    "8. Density \n",
    "9. Ph value \n",
    "10. Sulphates \n",
    "11. Alchol \n",
    "12. Quality \n"
   ]
  },
  {
   "cell_type": "code",
   "execution_count": null,
   "id": "50ffa667-c81c-4403-95d4-a3c599d671e7",
   "metadata": {},
   "outputs": [],
   "source": []
  },
  {
   "cell_type": "markdown",
   "id": "cce9141f-72fb-44f8-a862-294f5f1b8714",
   "metadata": {},
   "source": [
    "## Q2"
   ]
  },
  {
   "cell_type": "markdown",
   "id": "71022c9e-74d1-4d0f-b570-d4e01a2d6b52",
   "metadata": {},
   "source": [
    "How did you handle missing data in the wine quality data set during the feature engineering process?\n",
    "Discuss the advantages and disadvantages of different imputation techniques."
   ]
  },
  {
   "cell_type": "markdown",
   "id": "deedbffa-729f-4979-b657-17176229f822",
   "metadata": {},
   "source": [
    "### Ans \n",
    "In feature engineering process of handling missing data in a wine quality dataset , several imputation techniques can be employed to fill in the missing values \n",
    "some common imputation techniques along with their advantags and disadvantages \n",
    "\n",
    "1. Mean/Median Imputation \n",
    "   1. Advanrages : simple and quick to implement . Does not distort the distribution of the varible signficantly \n",
    "   2. Disadvantages : Ignoresrelationship between varibles may lead to biased estimates and does not account for variability in hemissing data \n",
    "2. Mode Imputaion \n",
    "    1. Advantages : sauitable for categorial or nominal varibles can work well if the mode is representative of the majority of cases\n",
    "    2. Disadvantages : ignores potential relationships between varibles might not be appro\n",
    "3. Regression Imputation \n",
    "    1. Advantages : Utilizes relationships betweenn varibles toestimate missing values . can produces more accurate imputation when relations are strong \n",
    "    2. disadvantages : sensitive to mode assumption may be offered y multiconllinearity and can be computationly expensive\n",
    "    \n",
    "4. k- nearset Neighbors (k-NN) imputation : \n",
    "    1. Advantages : con\n",
    "5.  Multiple Imputation:\n",
    "    \n",
    "6. Interpolation and Extrapolation:\n",
    "    \n",
    "7. Interpolation and Extrapolation:"
   ]
  },
  {
   "cell_type": "markdown",
   "id": "4f1d6d0c-ab68-41aa-9df4-a68f2cac83b6",
   "metadata": {},
   "source": [
    "## Q3. "
   ]
  },
  {
   "cell_type": "markdown",
   "id": "a3ef122a-3da5-4a58-a479-ba9a72fa9f41",
   "metadata": {},
   "source": [
    "What are the key factors that affect students' performance in exams? How would you go about\n",
    "analyzing these factors using statistical techniques?"
   ]
  },
  {
   "cell_type": "markdown",
   "id": "b2fffa9c-01da-4f31-8aa3-6ce872232bb5",
   "metadata": {},
   "source": [
    "### Ans \n",
    "students' performance in exams is influenced by a variety of factors that can be broadly categorized into individual, environmental, and academic-related factors.\n",
    "\n",
    "#### Key facters affectinng studens Performane \n",
    "1. Individual facters \n",
    "2. Environmental Facters \n",
    "3. academi-Related Facters \n",
    "\n",
    "#### statistical Analysis Approach \n",
    "1. Data collection \n",
    "2. Descriptive \n",
    "3. correlation analylisis \n",
    "4. Regression Analysis \n",
    "5. ANOVA  or T- tests \n",
    "6. Facter Analysis \n",
    "7.  Machine Learing echniqies \n",
    "8. Causal inference \n",
    "9. Inerpretation na d Reporting "
   ]
  },
  {
   "cell_type": "code",
   "execution_count": null,
   "id": "8ad1ea58-b6aa-454f-9d7c-ce56758f05ca",
   "metadata": {},
   "outputs": [],
   "source": []
  },
  {
   "cell_type": "markdown",
   "id": "a97aabaf-586d-4720-8a49-fc691d555bde",
   "metadata": {},
   "source": [
    "## Q4. "
   ]
  },
  {
   "cell_type": "markdown",
   "id": "48c86e2c-fd35-4b62-9bef-1b3146e7efd4",
   "metadata": {},
   "source": [
    " Describe the process of feature engineering in the context of the student performance data set. How\n",
    "did you select and transform the variables for your model?"
   ]
  },
  {
   "cell_type": "markdown",
   "id": "46e93f4f-be4d-41b1-8961-2013ff2e89d4",
   "metadata": {},
   "source": [
    "### Ans "
   ]
  },
  {
   "cell_type": "markdown",
   "id": "78e241cd-c6ac-4403-b6cc-a5c5b5f4b816",
   "metadata": {},
   "source": [
    "\n",
    "Feature engineering is the process of selecting, creating, and transforming variables (features) in a dataset to enhance the performance of a machine learning model. In the context of a student performance dataset, the goal is to identify and manipulate the variables that will be used to predict students' exam scores.\n",
    "\n",
    "\n",
    "###  feature engineering process might be applied:\n",
    "\n",
    "1. Data Understanding :\n",
    "Start by thoroughly understanding the student performance dataset, including the meaning of each variable and the potential relationships between them\n",
    "\n",
    "2. Feature Selection :\n",
    "Identify the variables that are likely to have a significant impact on predicting exam scores. These might include prior knowledge, study habits, attendance, socioeconomic status\n",
    "\n",
    "3. Handling Missing data : \n",
    "Analyze missing data patterns in the dataset and decide how to handle them. You might choose to impute missing values using techniques like mean imputation or regression imputation\n",
    "\n",
    "4. Feature Creation \n",
    "    1. Study Hours Ratio\n",
    "    2. Attendame Rate \n",
    "5. Scaling and Normalization :\n",
    "    Normalize or scale numerical features to ensure they are on similar scales. Common techniques include min-max scaling or z-score normalization.\n",
    "    \n",
    "6. Feature Transformation: \n",
    "    1. Log Transformation \n",
    "    2. Polynomial \n",
    "8. Feature ineraction\n",
    "    1. study Habits x Prior Kanowldge \n",
    "9. Feature Importance:\n",
    " \n",
    "10.  Dimensionality Reduction "
   ]
  },
  {
   "cell_type": "markdown",
   "id": "13a098f3-ef06-4d6a-b573-21a2c6e066d7",
   "metadata": {},
   "source": [
    "## Q5. "
   ]
  },
  {
   "cell_type": "markdown",
   "id": "94e0f0e5-5b4a-48cb-a46d-b06e2c56d4d6",
   "metadata": {},
   "source": [
    "Load the wine quality data set and perform exploratory data analysis (EDA) to identify the distribution\n",
    "of each feature. Which feature(s) exhibit non-normality, and what transformations could be applied to\n",
    "these features to improve normality?"
   ]
  },
  {
   "cell_type": "markdown",
   "id": "a186876d-20c1-4dd8-80c4-9bffb64dc09a",
   "metadata": {},
   "source": [
    "### Ans "
   ]
  },
  {
   "cell_type": "markdown",
   "id": "958bab04-16ea-4911-baa9-50266a46e2bd",
   "metadata": {},
   "source": [
    "the process of performing exploratory data analysis (EDA) on the wine quality dataset. However, I don't have direct access to external datasets or the ability to load them. If you provide me with the dataset or describe its structure, I can help you with the steps of EDA and identifying features that exhibit non-normality."
   ]
  },
  {
   "cell_type": "markdown",
   "id": "3d83ffe0-4b78-4343-90bd-ea1bc8fce031",
   "metadata": {},
   "source": [
    "it contains various features related to wine quality, here's a general outline of how you can perform EDA to identify the distribution of each feature and address non-normality:"
   ]
  },
  {
   "cell_type": "markdown",
   "id": "588a8227-fb7c-45f8-871b-09274607c354",
   "metadata": {},
   "source": [
    "1. Load the dataset \n",
    "2. Summary Statistis \n",
    "3. Histograms \n",
    "4. Quantile-Quantile (Q-Q) Plots\n",
    "5. Box Plots\n",
    "6. Shapiro-Wilk Test\n",
    "7. Transformations\n",
    "8. Visualize Transformed Data"
   ]
  },
  {
   "cell_type": "code",
   "execution_count": null,
   "id": "4df2eda5-bba7-40bb-b3b0-2f66419629e4",
   "metadata": {},
   "outputs": [],
   "source": []
  },
  {
   "cell_type": "markdown",
   "id": "06d56680-3158-40ef-aaaf-532eb866b828",
   "metadata": {},
   "source": [
    "## Q6. "
   ]
  },
  {
   "cell_type": "markdown",
   "id": "7bb398b3-5161-44b5-a629-a45cf310f014",
   "metadata": {},
   "source": [
    "Using the wine quality data set, perform principal component analysis (PCA) to reduce the number of\n",
    "features. What is the minimum number of principal components required to explain 90% of the variance in\n",
    "the data?"
   ]
  },
  {
   "cell_type": "markdown",
   "id": "666bf631-330d-4cea-92d4-27960acf4bc9",
   "metadata": {},
   "source": [
    "### Ans . "
   ]
  },
  {
   "cell_type": "markdown",
   "id": "ee38d32c-6024-4a4f-b401-b88d88b3a52d",
   "metadata": {},
   "source": [
    "Principal Component Analysis (PCA) on the wine quality dataset and determine the minimum number of principal components required to explain 90% of the variance in the data,"
   ]
  },
  {
   "cell_type": "markdown",
   "id": "4a03a31e-53c3-4a34-b66d-1ffd43fe19a9",
   "metadata": {},
   "source": [
    "1. Load and preprocess the data \n",
    "2. Standardize the data \n",
    "3. calculate the co varince matrix \n",
    "4.  calculate the eignvalues and eigncvecters \n",
    "5. sort eignvales and correspomding eignvacters in descending orders \n",
    "6. calculate the explained varince \n",
    "7. Determine the number of f principal components needed to explain 90% of the variance.\n"
   ]
  },
  {
   "cell_type": "code",
   "execution_count": null,
   "id": "4263a011-91c8-4699-9379-24a5a0e5d808",
   "metadata": {},
   "outputs": [],
   "source": []
  }
 ],
 "metadata": {
  "kernelspec": {
   "display_name": "Python 3 (ipykernel)",
   "language": "python",
   "name": "python3"
  },
  "language_info": {
   "codemirror_mode": {
    "name": "ipython",
    "version": 3
   },
   "file_extension": ".py",
   "mimetype": "text/x-python",
   "name": "python",
   "nbconvert_exporter": "python",
   "pygments_lexer": "ipython3",
   "version": "3.10.8"
  }
 },
 "nbformat": 4,
 "nbformat_minor": 5
}
